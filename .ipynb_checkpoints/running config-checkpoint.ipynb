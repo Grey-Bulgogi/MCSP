{
 "cells": [
  {
   "cell_type": "markdown",
   "metadata": {},
   "source": [
    "#### USAGE\n",
    "- This notebook is simple version of running our experiments\n",
    "- load_path should be like this 'D:virus/image/1gram_768/'\n",
    "    - 1gram_768 can ve vary from 1gram image to any gram image you made"
   ]
  },
  {
   "cell_type": "code",
   "execution_count": null,
   "metadata": {},
   "outputs": [],
   "source": [
    "!python utility/run.py\\\n",
    "--load_path path_for_converted_image\\\n",
    "--save_path path_for_saving_the_results\\\n",
    "--total_exp 3\\\n",
    "--num_epochs 500\\\n",
    "--batch_size 64\\\n",
    "--num_classes 9\\\n",
    "--learning_rate 0.0001"
   ]
  },
  {
   "cell_type": "code",
   "execution_count": null,
   "metadata": {},
   "outputs": [],
   "source": []
  }
 ],
 "metadata": {
  "kernelspec": {
   "display_name": "Python 3",
   "language": "python",
   "name": "python3"
  },
  "language_info": {
   "codemirror_mode": {
    "name": "ipython",
    "version": 3
   },
   "file_extension": ".py",
   "mimetype": "text/x-python",
   "name": "python",
   "nbconvert_exporter": "python",
   "pygments_lexer": "ipython3",
   "version": "3.8.5"
  }
 },
 "nbformat": 4,
 "nbformat_minor": 4
}
