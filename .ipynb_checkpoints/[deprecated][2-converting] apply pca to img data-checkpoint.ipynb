{
 "cells": [
  {
   "cell_type": "markdown",
   "metadata": {},
   "source": [
    "### 1. importing modules"
   ]
  },
  {
   "cell_type": "code",
   "execution_count": 1,
   "metadata": {},
   "outputs": [],
   "source": [
    "import os\n",
    "import time\n",
    "import numpy as np\n",
    "import pandas as pd\n",
    "import seaborn as sns\n",
    "import matplotlib.patheffects as PathEffects\n",
    "import matplotlib.pyplot as plt\n",
    "%matplotlib notebook\n",
    "\n",
    "RS = 123        # random state variable\n",
    "\n",
    "from PIL import Image\n",
    "from tqdm import tqdm\n",
    "from sklearn.decomposition import PCA\n",
    "\n",
    "from itertools import cycle\n",
    "from statsmodels.graphics.factorplots import interaction_plot\n"
   ]
  },
  {
   "cell_type": "markdown",
   "metadata": {},
   "source": [
    "### 2. loading img data"
   ]
  },
  {
   "cell_type": "code",
   "execution_count": 2,
   "metadata": {},
   "outputs": [
    {
     "name": "stderr",
     "output_type": "stream",
     "text": [
      "  0%|                                                                                            | 0/4 [00:00<?, ?it/s]\n"
     ]
    },
    {
     "ename": "FileNotFoundError",
     "evalue": "[WinError 3] 지정된 경로를 찾을 수 없습니다: 'D:/virus/image/1gram_768/'",
     "output_type": "error",
     "traceback": [
      "\u001b[1;31m---------------------------------------------------------------------------\u001b[0m",
      "\u001b[1;31mFileNotFoundError\u001b[0m                         Traceback (most recent call last)",
      "\u001b[1;32m<ipython-input-2-e800668f1511>\u001b[0m in \u001b[0;36m<module>\u001b[1;34m\u001b[0m\n\u001b[0;32m      9\u001b[0m \u001b[1;32mfor\u001b[0m \u001b[0mgram\u001b[0m \u001b[1;32min\u001b[0m \u001b[0mtqdm\u001b[0m\u001b[1;33m(\u001b[0m\u001b[0mgram_list\u001b[0m\u001b[1;33m)\u001b[0m\u001b[1;33m:\u001b[0m\u001b[1;33m\u001b[0m\u001b[1;33m\u001b[0m\u001b[0m\n\u001b[0;32m     10\u001b[0m     \u001b[0mPATH\u001b[0m \u001b[1;33m=\u001b[0m \u001b[0mpath\u001b[0m\u001b[1;33m+\u001b[0m\u001b[0mgram\u001b[0m\u001b[1;33m\u001b[0m\u001b[1;33m\u001b[0m\u001b[0m\n\u001b[1;32m---> 11\u001b[1;33m     \u001b[0mimage_file_list\u001b[0m \u001b[1;33m=\u001b[0m \u001b[0mos\u001b[0m\u001b[1;33m.\u001b[0m\u001b[0mlistdir\u001b[0m\u001b[1;33m(\u001b[0m\u001b[0mPATH\u001b[0m\u001b[1;33m)\u001b[0m\u001b[1;33m\u001b[0m\u001b[1;33m\u001b[0m\u001b[0m\n\u001b[0m\u001b[0;32m     12\u001b[0m \u001b[1;33m\u001b[0m\u001b[0m\n\u001b[0;32m     13\u001b[0m     \u001b[1;32mfor\u001b[0m \u001b[0mfile_name\u001b[0m \u001b[1;32min\u001b[0m \u001b[0mimage_file_list\u001b[0m\u001b[1;33m:\u001b[0m\u001b[1;33m\u001b[0m\u001b[1;33m\u001b[0m\u001b[0m\n",
      "\u001b[1;31mFileNotFoundError\u001b[0m: [WinError 3] 지정된 경로를 찾을 수 없습니다: 'D:/virus/image/1gram_768/'"
     ]
    }
   ],
   "source": [
    "gram_list = ['1gram_768/', '2gram_768/', '3gram_768/', '4gram_768/']\n",
    "path = 'D:/virus/image/'\n",
    "\n",
    "image_list = [[],[],[],[]]\n",
    "label_list = []\n",
    "\n",
    "gram_index = 0\n",
    "\n",
    "for gram in tqdm(gram_list):\n",
    "    PATH = path+gram\n",
    "    image_file_list = os.listdir(PATH)\n",
    "    \n",
    "    for file_name in image_file_list:\n",
    "        PATH2 = PATH + file_name\n",
    "        \n",
    "        if file_name[-3:]=='npy':\n",
    "            image = np.load(PATH2).reshape(-1)/255.0\n",
    "        \n",
    "        else:\n",
    "            image = np.array(Image.open(PATH2)).reshape(-1)/255.0\n",
    "            label = int(file_name[-5]) -1\n",
    "\n",
    "        image_list[gram_index].append(image)\n",
    "        label_list.append(label)\n",
    "\n",
    "    gram_index += 1\n",
    "    \n",
    "for i in range(3):\n",
    "    image_list[i] = np.asarray(image_list[i])\n",
    "    \n",
    "y = np.asarray(label_list[:10736])\n",
    "\n",
    "x_1 = image_list[0]\n",
    "x_2 = image_list[1]\n",
    "x_3 = image_list[2]\n",
    "x_4 = image_list[3]"
   ]
  },
  {
   "cell_type": "markdown",
   "metadata": {},
   "source": [
    "### 3. Converting image through PCA"
   ]
  },
  {
   "cell_type": "code",
   "execution_count": null,
   "metadata": {},
   "outputs": [],
   "source": [
    "%%time\n",
    "# 1-gram\n",
    "selected_n_gram = x_1\n",
    "clf_pca = PCA()\n",
    "clf_pca.fit(selected_n_gram)\n",
    "data1 = clf_pca.fit_transform(selected_n_gram)\n",
    "\n",
    "# 2-gram\n",
    "selected_n_gram = x_2\n",
    "clf_pca = PCA()\n",
    "clf_pca.fit(selected_n_gram)\n",
    "data2 = clf_pca.fit_transform(selected_n_gram)\n",
    "\n",
    "# 3-gram\n",
    "selected_n_gram = x_3\n",
    "clf_pca = PCA()\n",
    "clf_pca.fit(selected_n_gram)\n",
    "data3 = clf_pca.fit_transform(selected_n_gram)\n",
    "\n",
    "# 4-gram\n",
    "selected_n_gram = x_4\n",
    "clf_pca = PCA()\n",
    "clf_pca.fit(selected_n_gram)\n",
    "data4 = clf_pca.fit_transform(selected_n_gram)"
   ]
  },
  {
   "cell_type": "markdown",
   "metadata": {},
   "source": [
    "### 4. Saving"
   ]
  },
  {
   "cell_type": "code",
   "execution_count": null,
   "metadata": {},
   "outputs": [],
   "source": [
    "# 1gram img data\n",
    "np.save(file = 'D:/virus/image/1gram_768_pca/image_arr.npy', arr = data1)\n",
    "np.save(file = 'D:/virus/image/1gram_768_pca/label_arr.npy', arr = y )\n",
    "\n",
    "# 2gram img data\n",
    "np.save(file = 'D:/virus/image/2gram_768_pca/image_arr.npy', arr = data2)\n",
    "np.save(file = 'D:/virus/image/2gram_768_pca/label_arr.npy', arr = y )\n",
    "\n",
    "# 3gram img data\n",
    "np.save(file = 'D:/virus/image/3gram_768_pca/image_arr.npy', arr = data3)\n",
    "np.save(file = 'D:/virus/image/3gram_768_pca/label_arr.npy', arr = y )\n",
    "\n",
    "# 4gram img data\n",
    "np.save(file = 'D:/virus/image/4gram_768_pca/image_arr.npy', arr = data4)\n",
    "np.save(file = 'D:/virus/image/4gram_768_pca/label_arr.npy', arr = y )"
   ]
  }
 ],
 "metadata": {
  "kernelspec": {
   "display_name": "Python 3",
   "language": "python",
   "name": "python3"
  },
  "language_info": {
   "codemirror_mode": {
    "name": "ipython",
    "version": 3
   },
   "file_extension": ".py",
   "mimetype": "text/x-python",
   "name": "python",
   "nbconvert_exporter": "python",
   "pygments_lexer": "ipython3",
   "version": "3.8.5"
  }
 },
 "nbformat": 4,
 "nbformat_minor": 4
}
