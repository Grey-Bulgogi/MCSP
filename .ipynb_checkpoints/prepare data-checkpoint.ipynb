{
 "cells": [
  {
   "cell_type": "markdown",
   "metadata": {},
   "source": [
    "### Part1: From extracting opcode To making opcode image"
   ]
  },
  {
   "cell_type": "code",
   "execution_count": null,
   "metadata": {},
   "outputs": [],
   "source": [
    "import os\n",
    "import pickle\n",
    "import pandas as pd\n",
    "\n",
    "import re\n",
    "import numpy as np\n",
    "import hashlib as h\n",
    "\n",
    "from skimage import io\n",
    "#from ttictoc import TicToc\n",
    "from nltk.util import ngrams\n",
    "\n",
    "from utility.processing import make_opcode_lookup_table, make_line_start_lookup_table, is_code, make_hash_768"
   ]
  },
  {
   "cell_type": "markdown",
   "metadata": {},
   "source": [
    "##### 1. pre-processing .asm files to image"
   ]
  },
  {
   "cell_type": "code",
   "execution_count": null,
   "metadata": {},
   "outputs": [],
   "source": [
    "file_path = 'D:/virus/asm_data/'                     # load path for data in asm format\n",
    "save_path_for_opcode = 'D:/virus/opcode/'            # save path for the extracted opcodes\n",
    "save_path_for_image ='D:/virus/image/1gram_768/'     # save path for the image: opcode -> image\n",
    "path_for_opcode = './utility/opcode_set.csv'\n",
    "path_for_code_section = './utility/code_section.xlsx'\n",
    "empty = set()\n",
    "\n",
    "op_lookup_table = make_opcode_lookup_table(path_for_opcode)\n",
    "start_text = make_line_start_lookup_table(path_for_code_section)    # Customizing \n",
    "start_text.add('.tixt')\n",
    "start_text.add('.icode')\n",
    "start_text.add('seg')\n",
    "\n",
    "no_opcode_file = []\n",
    "file_list = os.listdir(file_path)"
   ]
  },
  {
   "cell_type": "markdown",
   "metadata": {},
   "source": [
    "##### 2. Extracting opcode sequence from the file_list and save it"
   ]
  },
  {
   "cell_type": "code",
   "execution_count": null,
   "metadata": {},
   "outputs": [],
   "source": [
    "check = lambda x: True if not start_text[0] in x and not start_text[1] in x else False\n",
    "\n",
    "for num, file in enumerate(file_list):\n",
    "    file_opcode = []\n",
    "\n",
    "    for line in open(file_path+file,'r',encoding='ISO-8859-1'):\n",
    "        if not is_code(line, start_text):\n",
    "            continue\n",
    "\n",
    "        words = line.split()\n",
    "        words = set(words)\n",
    "        opcode = words.intersection(op_lookup_table)\n",
    "\n",
    "        if opcode == empty:\n",
    "            continue\n",
    "\n",
    "        else:\n",
    "            file_opcode.append(opcode.pop())\n",
    "            continue\n",
    "\n",
    "    if file_opcode == []:\n",
    "        no_opcode_file.append(file)\n",
    "        print(f\"{file} doesn't have any opcode in CODE or TEXT section\")\n",
    "        continue\n",
    "\n",
    "    file_name = file.replace('.asm', '.pkl')\n",
    "\n",
    "    with open(save_path_for_opcode+file_name, 'wb') as fp:\n",
    "        pickle.dump(file_opcode, fp)\n",
    "\n",
    "    if num% 1000 == 0:\n",
    "        print('Now processing the {}th file'.format(num+1))"
   ]
  },
  {
   "cell_type": "code",
   "execution_count": null,
   "metadata": {},
   "outputs": [],
   "source": [
    "bits1 = 256\n",
    "bits2 = 512\n",
    "bits = [bits1 + bits2, bits1, bits2]\n",
    "\n",
    "width = 24\n",
    "height = 32\n",
    "\n",
    "start_time = time.time()\n",
    "make_img_768(bits, width, height, save_path_for_image)  # default: 1garm\n",
    "\n",
    "print(f'Took: {time.time() - start_time}s seconds')"
   ]
  },
  {
   "cell_type": "markdown",
   "metadata": {},
   "source": [
    "."
   ]
  },
  {
   "cell_type": "markdown",
   "metadata": {},
   "source": [
    "### Part2: From opcode image To converted image"
   ]
  },
  {
   "cell_type": "code",
   "execution_count": null,
   "metadata": {},
   "outputs": [],
   "source": [
    "import os\n",
    "import time\n",
    "import numpy as np\n",
    "import pandas as pd\n",
    "import seaborn as sns\n",
    "import matplotlib.patheffects as PathEffects\n",
    "import matplotlib.pyplot as plt\n",
    "%matplotlib notebook\n",
    "\n",
    "RS = 123        # random state variable\n",
    "\n",
    "from PIL import Image\n",
    "from tqdm import tqdm\n",
    "from sklearn.decomposition import PCA\n",
    "\n",
    "from itertools import cycle\n",
    "from statsmodels.graphics.factorplots import interaction_plot"
   ]
  },
  {
   "cell_type": "markdown",
   "metadata": {},
   "source": [
    "##### 1. Loading image data"
   ]
  },
  {
   "cell_type": "code",
   "execution_count": null,
   "metadata": {},
   "outputs": [],
   "source": [
    "gram_list = ['1gram_768/', '2gram_768/', '3gram_768/', '4gram_768/']\n",
    "path = 'D:/virus/image/'\n",
    "\n",
    "image_list = [[],[],[],[]]\n",
    "label_list = []\n",
    "\n",
    "gram_index = 0\n",
    "\n",
    "for gram in tqdm(gram_list):\n",
    "    PATH = path+gram\n",
    "    image_file_list = os.listdir(PATH)\n",
    "    \n",
    "    for file_name in image_file_list:\n",
    "        PATH2 = PATH + file_name\n",
    "        \n",
    "        if file_name[-3:]=='npy':\n",
    "            image = np.load(PATH2).reshape(-1)/255.0\n",
    "        \n",
    "        else:\n",
    "            image = np.array(Image.open(PATH2)).reshape(-1)/255.0\n",
    "            label = int(file_name[-5]) -1\n",
    "\n",
    "        image_list[gram_index].append(image)\n",
    "        label_list.append(label)\n",
    "\n",
    "    gram_index += 1\n",
    "    \n",
    "for i in range(3):\n",
    "    image_list[i] = np.asarray(image_list[i])\n",
    "    \n",
    "y = np.asarray(label_list[:10736])\n",
    "\n",
    "x_1 = image_list[0]\n",
    "x_2 = image_list[1]\n",
    "x_3 = image_list[2]\n",
    "x_4 = image_list[3]"
   ]
  },
  {
   "cell_type": "markdown",
   "metadata": {},
   "source": [
    "##### 2. Transforming image by PCA"
   ]
  },
  {
   "cell_type": "code",
   "execution_count": null,
   "metadata": {},
   "outputs": [],
   "source": [
    "%%time\n",
    "# 1-gram\n",
    "selected_n_gram = x_1\n",
    "clf_pca = PCA()\n",
    "clf_pca.fit(selected_n_gram)\n",
    "data1 = clf_pca.fit_transform(selected_n_gram)\n",
    "\n",
    "# 2-gram\n",
    "selected_n_gram = x_2\n",
    "clf_pca = PCA()\n",
    "clf_pca.fit(selected_n_gram)\n",
    "data2 = clf_pca.fit_transform(selected_n_gram)\n",
    "\n",
    "# 3-gram\n",
    "selected_n_gram = x_3\n",
    "clf_pca = PCA()\n",
    "clf_pca.fit(selected_n_gram)\n",
    "data3 = clf_pca.fit_transform(selected_n_gram)\n",
    "\n",
    "# 4-gram\n",
    "selected_n_gram = x_4\n",
    "clf_pca = PCA()\n",
    "clf_pca.fit(selected_n_gram)\n",
    "data4 = clf_pca.fit_transform(selected_n_gram)"
   ]
  },
  {
   "cell_type": "markdown",
   "metadata": {},
   "source": [
    "##### 3. Saving converted image: opcode image -> pca transformed image"
   ]
  },
  {
   "cell_type": "code",
   "execution_count": null,
   "metadata": {},
   "outputs": [],
   "source": [
    "# 1gram img data\n",
    "np.save(file = 'D:/virus/image/1gram_768_pca/image_arr.npy', arr = data1)\n",
    "np.save(file = 'D:/virus/image/1gram_768_pca/label_arr.npy', arr = y )\n",
    "\n",
    "# 2gram img data\n",
    "np.save(file = 'D:/virus/image/2gram_768_pca/image_arr.npy', arr = data2)\n",
    "np.save(file = 'D:/virus/image/2gram_768_pca/label_arr.npy', arr = y )\n",
    "\n",
    "# 3gram img data\n",
    "np.save(file = 'D:/virus/image/3gram_768_pca/image_arr.npy', arr = data3)\n",
    "np.save(file = 'D:/virus/image/3gram_768_pca/label_arr.npy', arr = y )\n",
    "\n",
    "# 4gram img data\n",
    "np.save(file = 'D:/virus/image/4gram_768_pca/image_arr.npy', arr = data4)\n",
    "np.save(file = 'D:/virus/image/4gram_768_pca/label_arr.npy', arr = y )"
   ]
  }
 ],
 "metadata": {
  "kernelspec": {
   "display_name": "Python 3",
   "language": "python",
   "name": "python3"
  },
  "language_info": {
   "codemirror_mode": {
    "name": "ipython",
    "version": 3
   },
   "file_extension": ".py",
   "mimetype": "text/x-python",
   "name": "python",
   "nbconvert_exporter": "python",
   "pygments_lexer": "ipython3",
   "version": "3.8.5"
  }
 },
 "nbformat": 4,
 "nbformat_minor": 4
}
